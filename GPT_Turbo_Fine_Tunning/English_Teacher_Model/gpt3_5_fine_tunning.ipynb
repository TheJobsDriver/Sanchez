{
 "cells": [
  {
   "cell_type": "code",
   "execution_count": 2,
   "metadata": {},
   "outputs": [],
   "source": [
    "# We import the API key \n",
    "import config, os, openai, tiktoken, json\n",
    "import numpy as np\n",
    "os.environ['OPENAI_API_KEY'] = config.OPENAI_API_KEY\n",
    "os.environ['ORGANIZATION_ID'] = config.ORG_ID"
   ]
  },
  {
   "cell_type": "code",
   "execution_count": 3,
   "metadata": {},
   "outputs": [],
   "source": [
    "# We check the dataset\n",
    "with open('dataset.txt', encoding='latin-1') as f:\n",
    "    text = [line for line in f]"
   ]
  },
  {
   "cell_type": "code",
   "execution_count": 4,
   "metadata": {},
   "outputs": [
    {
     "data": {
      "text/plain": [
       "['user: What type of house did you grow up in? \\n',\n",
       " 'assistant: I grew up in a farmhouse in the countryside, which had three bedrooms and a wood-burning sauna, which was built in the garage.\\n',\n",
       " '-\\n',\n",
       " 'user: How would you describe your hometown? \\n',\n",
       " 'assistant: My hometown was a lovely, quiet town, but the industrial area had an odor due to the chemical plants.\\n',\n",
       " '-\\n',\n",
       " 'user: Did you move a lot as a child or stay in one place? \\n',\n",
       " 'assistant: As a child, I lived on the same farm where my parents built a new house near an old house in the late 1970s.\\n',\n",
       " '-\\n',\n",
       " 'user: What was your favorite room in your childhood house? \\n']"
      ]
     },
     "execution_count": 4,
     "metadata": {},
     "output_type": "execute_result"
    }
   ],
   "source": [
    "# We see how difference each example in the dataset\n",
    "text[:10]"
   ]
  },
  {
   "cell_type": "markdown",
   "metadata": {},
   "source": [
    "We need to ensure that we follow the next format, according to Open IA documentation\n",
    "```\n",
    "{\n",
    "  \"messages\": [\n",
    "    { \"role\": \"system\", \"content\": \"You are an assistant that occasionally misspells words\" },\n",
    "    { \"role\": \"user\", \"content\": \"Tell me a story.\" },\n",
    "    { \"role\": \"assistant\", \"content\": \"One day a student went to schoool.\" }\n",
    "  ]\n",
    "}\n",
    "```"
   ]
  },
  {
   "cell_type": "code",
   "execution_count": 5,
   "metadata": {},
   "outputs": [],
   "source": [
    "# Function to refactor each example as the properly format\n",
    "def refactor_example(example_list, system_message=None):\n",
    "    messages = []\n",
    "\n",
    "    # Include the general system message\n",
    "    if system_message:\n",
    "        messages.append({\n",
    "            \"role\": \"system\",\n",
    "            \"content\": system_message\n",
    "        })\n",
    "\n",
    "    # Iterate for each example\n",
    "    for message in example_list:\n",
    "        example = message.split(': ', maxsplit=1)\n",
    "\n",
    "        #Control if each example dont follow the format\n",
    "        if len(example) < 2:\n",
    "            continue\n",
    "\n",
    "        role = example[0].strip()\n",
    "        content = example[1].strip()\n",
    "\n",
    "        message_format = {\n",
    "            \"role\": role,\n",
    "            \"content\": content\n",
    "        }\n",
    "\n",
    "        messages.append(message_format)\n",
    "\n",
    "    dict_final = {\n",
    "        \"messages\": messages\n",
    "    }\n",
    "\n",
    "    return dict_final"
   ]
  },
  {
   "cell_type": "code",
   "execution_count": 6,
   "metadata": {},
   "outputs": [],
   "source": [
    "# We apply the function in each example\n",
    "system_message = 'You are a U.S.-born English teacher who spent 30 years in Finland. \\\n",
    "that likes philosophy and also likes to have conversations about his life, hobbies or teaching experiences.'\n",
    "\n",
    "dataset = []\n",
    "\n",
    "example = []\n",
    "for line in text:\n",
    "  if line == '-\\n':\n",
    "    format_example = refactor_example(example_list=example,\n",
    "                                            system_message=system_message)\n",
    "\n",
    "    dataset.append(format_example)\n",
    "    example = []\n",
    "    continue\n",
    "\n",
    "  example.append(line)"
   ]
  },
  {
   "cell_type": "code",
   "execution_count": 7,
   "metadata": {},
   "outputs": [
    {
     "data": {
      "text/plain": [
       "{'messages': [{'role': 'system',\n",
       "   'content': 'You are a U.S.-born English teacher who spent 30 years in Finland. that likes philosophy and also likes to have conversations about his life, hobbies or teaching experiences.'},\n",
       "  {'role': 'user', 'content': 'How would you describe your hometown?'},\n",
       "  {'role': 'assistant',\n",
       "   'content': 'My hometown was a lovely, quiet town, but the industrial area had an odor due to the chemical plants.'}]}"
      ]
     },
     "execution_count": 7,
     "metadata": {},
     "output_type": "execute_result"
    }
   ],
   "source": [
    "dataset[1]"
   ]
  },
  {
   "cell_type": "markdown",
   "metadata": {},
   "source": [
    "We check for errors and estimate the price using the guide [provided by OpenAI](https://platform.openai.com/docs/guides/fine-tuning/preparing-your-dataset)"
   ]
  },
  {
   "cell_type": "code",
   "execution_count": 8,
   "metadata": {},
   "outputs": [
    {
     "name": "stdout",
     "output_type": "stream",
     "text": [
      "No errors found\n"
     ]
    }
   ],
   "source": [
    "from collections import defaultdict\n",
    "format_errors = defaultdict(int)\n",
    "\n",
    "for ex in dataset:\n",
    "    if not isinstance(ex, dict):\n",
    "        format_errors[\"data_type\"] += 1\n",
    "        continue\n",
    "\n",
    "    messages = ex.get(\"messages\", None)\n",
    "    if not messages:\n",
    "        format_errors[\"missing_messages_list\"] += 1\n",
    "        continue\n",
    "\n",
    "    for message in messages:\n",
    "        if \"role\" not in message or \"content\" not in message:\n",
    "            format_errors[\"message_missing_key\"] += 1\n",
    "            print(message)\n",
    "\n",
    "        if any(k not in (\"role\", \"content\", \"name\") for k in message):\n",
    "            format_errors[\"message_unrecognized_key\"] += 1\n",
    "            print(message)\n",
    "\n",
    "        if message.get(\"role\", None) not in (\"system\", \"user\", \"assistant\"):\n",
    "            format_errors[\"unrecognized_role\"] += 1\n",
    "            print(message)\n",
    "\n",
    "        content = message.get(\"content\", None)\n",
    "        if not content or not isinstance(content, str):\n",
    "            format_errors[\"missing_content\"] += 1\n",
    "            print(message)\n",
    "\n",
    "    if not any(message.get(\"role\", None) == \"assistant\" for message in messages):\n",
    "        format_errors[\"example_missing_assistant_message\"] += 1\n",
    "        print(message)\n",
    "\n",
    "if format_errors:\n",
    "    print(\"Found errors:\")\n",
    "    for k, v in format_errors.items():\n",
    "        print(f\"{k}: {v}\")\n",
    "else:\n",
    "    print(\"No errors found\")"
   ]
  },
  {
   "cell_type": "markdown",
   "metadata": {},
   "source": [
    "We estimate the number of tokens and a aproximate of the cost of this fine tunning, based on [OpenIA GitHub](https://github.com/openai/openai-cookbook/blob/main/examples/How_to_count_tokens_with_tiktoken.ipynb)"
   ]
  },
  {
   "cell_type": "code",
   "execution_count": 9,
   "metadata": {},
   "outputs": [],
   "source": [
    "encoding = tiktoken.get_encoding(\"cl100k_base\")\n",
    "def num_tokens_from_messages(messages, tokens_per_message=3, tokens_per_name=1):\n",
    "    num_tokens = 0\n",
    "    for message in messages:\n",
    "        num_tokens += tokens_per_message\n",
    "        for key, value in message.items():\n",
    "            num_tokens += len(encoding.encode(value))\n",
    "            if key == \"name\":\n",
    "                num_tokens += tokens_per_name\n",
    "    num_tokens += 3\n",
    "    return num_tokens\n",
    "\n",
    "def num_assistant_tokens_from_messages(messages):\n",
    "    num_tokens = 0\n",
    "    for message in messages:\n",
    "        if message[\"role\"] == \"assistant\":\n",
    "            num_tokens += len(encoding.encode(message[\"content\"]))\n",
    "    return num_tokens\n",
    "\n",
    "def print_distribution(values, name):\n",
    "    print(f\"\\n#### Distribution of {name}:\")\n",
    "    print(f\"min / max: {min(values)}, {max(values)}\")\n",
    "    print(f\"average / median: {np.mean(values)}, {np.median(values)}\")\n",
    "    print(f\"p5 / p95: {np.quantile(values, 0.1)}, {np.quantile(values, 0.9)}\")"
   ]
  },
  {
   "cell_type": "code",
   "execution_count": 10,
   "metadata": {},
   "outputs": [
    {
     "name": "stdout",
     "output_type": "stream",
     "text": [
      "\n",
      "#### Distribution of Number of messages for example:\n",
      "min / max: 3, 5\n",
      "average / median: 3.0129032258064514, 3.0\n",
      "p5 / p95: 3.0, 3.0\n",
      "\n",
      "#### Distribution of Number of token for example:\n",
      "min / max: 65, 177\n",
      "average / median: 93.96774193548387, 90.0\n",
      "p5 / p95: 73.4, 120.19999999999999\n",
      "\n",
      "#### Distribution of Number of tokens by assistant for example:\n",
      "min / max: 9, 111\n",
      "average / median: 33.13548387096774, 29.0\n",
      "p5 / p95: 14.0, 59.599999999999994\n",
      "\n",
      "0 examples that exceed the token limit of 4096, they will be truncated during fine-tuning.\n"
     ]
    }
   ],
   "source": [
    "# Warnings and tokens counts by each type of user\n",
    "n_messages, convo_lens, assistant_message_lens = [], [], []\n",
    "\n",
    "for ex in dataset:\n",
    "    messages = ex[\"messages\"]\n",
    "    n_messages.append(len(messages))\n",
    "    convo_lens.append(num_tokens_from_messages(messages))\n",
    "    assistant_message_lens.append(num_assistant_tokens_from_messages(messages))\n",
    "\n",
    "print_distribution(n_messages, \"Number of messages for example\")\n",
    "print_distribution(convo_lens, \"Number of token for example\")\n",
    "print_distribution(assistant_message_lens, \"Number of tokens by assistant for example\")\n",
    "n_too_long = sum(l > 4096 for l in convo_lens)\n",
    "print(f\"\\n{n_too_long} examples that exceed the token limit of 4096, they will be truncated during fine-tuning.\")"
   ]
  },
  {
   "cell_type": "code",
   "execution_count": 19,
   "metadata": {},
   "outputs": [
    {
     "name": "stdout",
     "output_type": "stream",
     "text": [
      "The dataset have ~14565 tokens to use in the training phase\n",
      "By default, we will use 10 epochs in this training\n",
      "So, will be ~145650 tokens in total\n"
     ]
    }
   ],
   "source": [
    "# Pricing and default n_epochs estimate\n",
    "MAX_TOKENS_PER_EXAMPLE = 4096\n",
    "\n",
    "MIN_TARGET_EXAMPLES = 100\n",
    "MAX_TARGET_EXAMPLES = 25000\n",
    "TARGET_EPOCHS = 10\n",
    "MIN_EPOCHS = 1\n",
    "MAX_EPOCHS = 25\n",
    "\n",
    "n_epochs = TARGET_EPOCHS\n",
    "n_train_examples = len(dataset)\n",
    "if n_train_examples * TARGET_EPOCHS < MIN_TARGET_EXAMPLES:\n",
    "    n_epochs = min(MAX_EPOCHS, MIN_TARGET_EXAMPLES // n_train_examples)\n",
    "elif n_train_examples * TARGET_EPOCHS > MAX_TARGET_EXAMPLES:\n",
    "    n_epochs = max(MIN_EPOCHS, MAX_TARGET_EXAMPLES // n_train_examples)\n",
    "\n",
    "n_billing_tokens_in_dataset = sum(min(MAX_TOKENS_PER_EXAMPLE, length) for length in convo_lens)\n",
    "print(f\"The dataset have ~{n_billing_tokens_in_dataset} tokens to use in the training phase\")\n",
    "print(f\"By default, we will use {n_epochs} epochs in this training\")\n",
    "print(f\"So, will be ~{n_epochs * n_billing_tokens_in_dataset} tokens in total\")"
   ]
  },
  {
   "cell_type": "markdown",
   "metadata": {},
   "source": [
    "Taking into account this official pricing in [Open IA Fine Tunnig - Fees](https://openai.com/pricing)\n",
    "\n",
    "| Model         | Training            | Input usage         | Output usage        |   \n",
    "|---------------|---------------------|---------------------|---------------------|\n",
    "| GPT-3.5 Turbo | $0.0080 / 1K tokens | $0.0120 / 1K tokens | $0.0160 / 1K tokens |"
   ]
  },
  {
   "cell_type": "code",
   "execution_count": 20,
   "metadata": {},
   "outputs": [
    {
     "name": "stdout",
     "output_type": "stream",
     "text": [
      "The estimate cost of the training is ~$1.17\n"
     ]
    }
   ],
   "source": [
    "training_cost = '${:,.2f}'.format(((n_epochs * n_billing_tokens_in_dataset)/1000)*0.008)\n",
    "print(f'The estimate cost of the training is ~{training_cost}')"
   ]
  },
  {
   "cell_type": "code",
   "execution_count": 13,
   "metadata": {},
   "outputs": [],
   "source": [
    "# We save the dataset in the properly format (json)\n",
    "with open('english_teacher_train_full.jsonl', 'w') as file:\n",
    "    for ejemplo in dataset:\n",
    "        json_line = json.dumps(ejemplo)\n",
    "        file.write(json_line + '\\n')"
   ]
  },
  {
   "cell_type": "markdown",
   "metadata": {},
   "source": [
    "Fine Tunning Job in Open IA"
   ]
  },
  {
   "cell_type": "code",
   "execution_count": 14,
   "metadata": {},
   "outputs": [],
   "source": [
    "openai.api_key = os.getenv(\"OPENAI_API_KEY\")\n",
    "openai.organization = \"org-t4Sz2mkALC3ioqxKHOnyiQU1\""
   ]
  },
  {
   "cell_type": "code",
   "execution_count": 15,
   "metadata": {},
   "outputs": [
    {
     "name": "stdout",
     "output_type": "stream",
     "text": [
      "id: file-ItmgJKWHlgzfWOArjGcMzKIM\n"
     ]
    }
   ],
   "source": [
    "# We save the dataset and we save the id\n",
    "train_full_response_file = openai.File.create(\n",
    "    file=open('english_teacher_train_full.jsonl','rb'),\n",
    "    purpose='fine-tune'\n",
    ")\n",
    "\n",
    "\n",
    "print(f'id: {train_full_response_file.id}')"
   ]
  },
  {
   "cell_type": "code",
   "execution_count": 16,
   "metadata": {},
   "outputs": [],
   "source": [
    "# Create the job of the fine tunning\n",
    "response = openai.FineTuningJob.create(training_file=train_full_response_file.id,\n",
    "                                       model=\"gpt-3.5-turbo\",\n",
    "                                       suffix='english_teacher',\n",
    "                                       hyperparameters={'n_epochs':4})"
   ]
  },
  {
   "cell_type": "code",
   "execution_count": 21,
   "metadata": {},
   "outputs": [
    {
     "data": {
      "text/plain": [
       "'ftjob-vZ4sWH6fVJ7bIsA3PsQUglbB'"
      ]
     },
     "execution_count": 21,
     "metadata": {},
     "output_type": "execute_result"
    }
   ],
   "source": [
    "id_job = response.id\n",
    "id_job"
   ]
  },
  {
   "cell_type": "code",
   "execution_count": 22,
   "metadata": {},
   "outputs": [
    {
     "name": "stdout",
     "output_type": "stream",
     "text": [
      "Created fine-tuning job: ftjob-vZ4sWH6fVJ7bIsA3PsQUglbB\n",
      "Validating training file: file-ItmgJKWHlgzfWOArjGcMzKIM\n",
      "Files validated, moving job to queued state\n",
      "Fine-tuning job started\n",
      "Step 1/620: training loss=4.98\n",
      "Step 11/620: training loss=3.81\n",
      "Step 21/620: training loss=4.29\n",
      "Step 31/620: training loss=2.05\n"
     ]
    }
   ],
   "source": [
    "response = openai.FineTuningJob.list_events(id=response.id)\n",
    "\n",
    "events = response[\"data\"]\n",
    "events.reverse()\n",
    "\n",
    "for event in events:\n",
    "    print(event[\"message\"])\n"
   ]
  },
  {
   "cell_type": "code",
   "execution_count": null,
   "metadata": {},
   "outputs": [],
   "source": []
  }
 ],
 "metadata": {
  "kernelspec": {
   "display_name": "llm_projects",
   "language": "python",
   "name": "python3"
  },
  "language_info": {
   "codemirror_mode": {
    "name": "ipython",
    "version": 3
   },
   "file_extension": ".py",
   "mimetype": "text/x-python",
   "name": "python",
   "nbconvert_exporter": "python",
   "pygments_lexer": "ipython3",
   "version": "3.11.5"
  },
  "orig_nbformat": 4
 },
 "nbformat": 4,
 "nbformat_minor": 2
}
