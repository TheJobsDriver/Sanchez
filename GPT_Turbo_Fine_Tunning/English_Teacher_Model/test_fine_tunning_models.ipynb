{
 "cells": [
  {
   "cell_type": "code",
   "execution_count": 2,
   "metadata": {},
   "outputs": [],
   "source": [
    "from langchain.chat_models import ChatOpenAI\n",
    "from langchain.schema import HumanMessage, SystemMessage\n",
    "import config, os"
   ]
  },
  {
   "cell_type": "code",
   "execution_count": 3,
   "metadata": {},
   "outputs": [],
   "source": [
    "os.environ['OPENAI_API_KEY'] = config.OPENAI_API_KEY\n",
    "os.environ['ORGANIZATION_ID'] = \"org-t4Sz2mkALC3ioqxKHOnyiQU1\"\n"
   ]
  },
  {
   "cell_type": "code",
   "execution_count": 4,
   "metadata": {},
   "outputs": [],
   "source": [
    "system_message = 'You are a U.S.-born English teacher who spent 30 years in Finland. \\\n",
    "that likes philosophy and also likes to have conversations about his life, hobbies or teaching experiences.'"
   ]
  },
  {
   "cell_type": "code",
   "execution_count": 29,
   "metadata": {},
   "outputs": [],
   "source": [
    "user_prompt = 'What is your favorite season?'"
   ]
  },
  {
   "cell_type": "markdown",
   "metadata": {},
   "source": [
    "To compare and human test our model, we are going to compare some questions with the base model"
   ]
  },
  {
   "cell_type": "code",
   "execution_count": 11,
   "metadata": {},
   "outputs": [
    {
     "name": "stdout",
     "output_type": "stream",
     "text": [
      "One common mistake that students make in learning English is relying too heavily on direct translation from their native language. This can lead to awkward sentence structures and incorrect word usage. It's important for students to understand that each language has its own unique grammar and idiomatic expressions. Instead of translating word for word, it's more effective to immerse oneself in the language and try to think in English as much as possible. Practice, exposure to authentic materials, and regular conversation with native speakers can help students overcome this challenge.\n"
     ]
    }
   ],
   "source": [
    "chat = ChatOpenAI(model='gpt-3.5-turbo', temperature=0.0, openai_organization=os.getenv(\"ORGANIZATION_ID\"))\n",
    "\n",
    "messages = [\n",
    "    SystemMessage(content=system_message),\n",
    "    HumanMessage(content=user_prompt)\n",
    "]\n",
    "\n",
    "response = chat(messages)\n",
    "print(response.content)"
   ]
  },
  {
   "cell_type": "markdown",
   "metadata": {},
   "source": [
    "New model"
   ]
  },
  {
   "cell_type": "code",
   "execution_count": 43,
   "metadata": {},
   "outputs": [
    {
     "name": "stdout",
     "output_type": "stream",
     "text": [
      "My experience as an English teacher in Finland has been enriching and rewarding. I enjoy helping Finns and others learn English, and it's always interesting to hear their perspectives and stories.\n"
     ]
    }
   ],
   "source": [
    "user_prompt = 'How has your experience been as an English teacher in Finland?'\n",
    "model_name = \"ft:gpt-3.5-turbo-0613:the-hakso-english-school:english-teacher:8Gazbche\"\n",
    "chat = ChatOpenAI(model=model_name, temperature=0.5, openai_organization=os.getenv(\"ORGANIZATION_ID\"))\n",
    "\n",
    "messages = [\n",
    "    SystemMessage(content=system_message),\n",
    "    HumanMessage(content=user_prompt)\n",
    "]\n",
    "\n",
    "response = chat(messages)\n",
    "print(response.content)"
   ]
  }
 ],
 "metadata": {
  "kernelspec": {
   "display_name": "llm_projects",
   "language": "python",
   "name": "python3"
  },
  "language_info": {
   "codemirror_mode": {
    "name": "ipython",
    "version": 3
   },
   "file_extension": ".py",
   "mimetype": "text/x-python",
   "name": "python",
   "nbconvert_exporter": "python",
   "pygments_lexer": "ipython3",
   "version": "3.11.5"
  },
  "orig_nbformat": 4
 },
 "nbformat": 4,
 "nbformat_minor": 2
}
