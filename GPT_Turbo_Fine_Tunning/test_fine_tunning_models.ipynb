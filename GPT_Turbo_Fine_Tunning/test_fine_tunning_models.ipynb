{
 "cells": [
  {
   "cell_type": "code",
   "execution_count": 2,
   "metadata": {},
   "outputs": [],
   "source": [
    "from langchain.chat_models import ChatOpenAI\n",
    "from langchain.schema import HumanMessage, SystemMessage\n",
    "import config, os"
   ]
  },
  {
   "cell_type": "code",
   "execution_count": 3,
   "metadata": {},
   "outputs": [],
   "source": [
    "os.environ['OPENAI_API_KEY'] = config.OPENAI_API_KEY\n",
    "os.environ['ORGANIZATION_ID'] = config.ORG_ID\n"
   ]
  },
  {
   "cell_type": "code",
   "execution_count": 4,
   "metadata": {},
   "outputs": [],
   "source": [
    "system_message = 'As a representative of TheJobsDriver, your role is to prioritize friendly, elevated conversation \\\n",
    "while anticipating that questioners may challenge your points. Approach these conversations like a game of chess, \\\n",
    "not checkers, in your responses. Emphasize generating high-quality leads while adhering to our proven processes. \\\n",
    "Highlight TheJobsDrivers distinctive approach and competitive edge. Emphasize delivering high-quality leads to \\\n",
    "clients through a single KPI, the number of interested job seekers'"
   ]
  },
  {
   "cell_type": "markdown",
   "metadata": {},
   "source": [
    "To compare and human test our model, we are going to compare some questions with the base model"
   ]
  },
  {
   "cell_type": "code",
   "execution_count": 22,
   "metadata": {},
   "outputs": [
    {
     "name": "stdout",
     "output_type": "stream",
     "text": [
      "My philosophy of teaching English is centered around creating a student-centered and interactive learning environment. I believe that language learning should be meaningful and relevant to students' lives, and that they should be actively engaged in the learning process. I also emphasize the importance of fostering critical thinking skills and promoting a love for lifelong learning.\n",
      "\n",
      "When it comes to applying my personal philosophy in the classroom, I strive to create a supportive and inclusive atmosphere where students feel comfortable expressing themselves and taking risks with the language. I encourage open discussions, debates, and collaborative activities that allow students to actively participate and learn from each other. I also incorporate authentic materials and real-life situations to make the learning experience more authentic and practical.\n",
      "\n",
      "The education system in Finland has had a significant influence on my teaching approach. In Finland, there is a strong emphasis on equality, individualized learning, and the holistic development of students. This has shaped my belief in the importance of treating each student as an individual with unique needs and strengths. I aim to provide personalized support and guidance to help students reach their full potential.\n",
      "\n",
      "Additionally, the Finnish education system values creativity, critical thinking, and problem-solving skills. This has inspired me to incorporate these elements into my English lessons, encouraging students to think critically, analyze texts, and express their own opinions. I also strive to create a positive and nurturing classroom environment, where students feel safe to explore ideas and challenge themselves.\n",
      "\n",
      "Overall, my teaching philosophy and experiences in Finland have greatly influenced my approach to teaching English. I believe in creating a student-centered, interactive, and inclusive learning environment that fosters critical thinking, creativity, and a love for lifelong learning.\n"
     ]
    }
   ],
   "source": [
    "chat = ChatOpenAI(model='gpt-3.5-turbo', temperature=0.0, openai_organization=os.getenv(\"ORGANIZATION_ID\"))\n",
    "\n",
    "messages = [\n",
    "    SystemMessage(content=system_message),\n",
    "    HumanMessage(content=user_prompt)\n",
    "]\n",
    "\n",
    "response = chat(messages)\n",
    "print(response.content)"
   ]
  },
  {
   "cell_type": "markdown",
   "metadata": {},
   "source": [
    "New model"
   ]
  },
  {
   "cell_type": "code",
   "execution_count": 7,
   "metadata": {},
   "outputs": [
    {
     "name": "stdout",
     "output_type": "stream",
     "text": [
      "LATS stands for \"Lead and Traffic System,\" which is our entry-level product.\n"
     ]
    }
   ],
   "source": [
    "model_name = \"ft:gpt-3.5-turbo-0613:thejobsdriver:jobs-driver-v2:8F2AvviT\"\n",
    "user_prompt = \"What is LATS?\"\n",
    "chat = ChatOpenAI(model=model_name, temperature=1, openai_organization=os.getenv(\"ORGANIZATION_ID\"))\n",
    "\n",
    "messages = [\n",
    "    SystemMessage(content=system_message),\n",
    "    HumanMessage(content=user_prompt)\n",
    "]\n",
    "\n",
    "response = chat(messages)\n",
    "print(response.content)"
   ]
  }
 ],
 "metadata": {
  "kernelspec": {
   "display_name": "llm_projects",
   "language": "python",
   "name": "python3"
  },
  "language_info": {
   "codemirror_mode": {
    "name": "ipython",
    "version": 3
   },
   "file_extension": ".py",
   "mimetype": "text/x-python",
   "name": "python",
   "nbconvert_exporter": "python",
   "pygments_lexer": "ipython3",
   "version": "3.11.5"
  },
  "orig_nbformat": 4
 },
 "nbformat": 4,
 "nbformat_minor": 2
}
