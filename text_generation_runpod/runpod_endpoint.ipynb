{
 "cells": [
  {
   "cell_type": "code",
   "execution_count": 1,
   "metadata": {},
   "outputs": [
    {
     "name": "stderr",
     "output_type": "stream",
     "text": [
      "c:\\Users\\jesus\\anaconda3\\envs\\runpod_endpoint\\Lib\\site-packages\\tqdm\\auto.py:21: TqdmWarning: IProgress not found. Please update jupyter and ipywidgets. See https://ipywidgets.readthedocs.io/en/stable/user_install.html\n",
      "  from .autonotebook import tqdm as notebook_tqdm\n"
     ]
    }
   ],
   "source": [
    "import requests, runpod, os, config\n",
    "os.environ['RUNPOD_API_KEY'] = config.RUNPOD_API_KEY"
   ]
  },
  {
   "cell_type": "code",
   "execution_count": 2,
   "metadata": {},
   "outputs": [],
   "source": [
    "runpod.api_key = os.getenv(\"RUNPOD_API_KEY\")"
   ]
  },
  {
   "cell_type": "code",
   "execution_count": 31,
   "metadata": {},
   "outputs": [],
   "source": [
    "# Mistral Model\n",
    "pod = runpod.create_pod(\n",
    "    name='mistral-7b-chat',\n",
    "    image_name='ghcr.io/huggingface/text-generation-inference:latest',\n",
    "    gpu_type_id='NVIDIA GeForce RTX 4090',\n",
    "    data_center_id='EU-RO-1',\n",
    "    cloud_type='SECURE',\n",
    "    docker_args= '--model-id TheBloke/Kimiko-Mistral-7B-fp16 --quantize eetq',\n",
    "    gpu_count=1,\n",
    "    volume_in_gb=80,\n",
    "    container_disk_in_gb=15,\n",
    "    ports='80/http,29500/http',\n",
    "    volume_mount_path='/data',\n",
    ")"
   ]
  },
  {
   "cell_type": "code",
   "execution_count": 51,
   "metadata": {},
   "outputs": [
    {
     "data": {
      "text/plain": [
       "{'id': 'xuqocmk4f2ve75',\n",
       " 'imageName': 'ghcr.io/huggingface/text-generation-inference:latest',\n",
       " 'env': [],\n",
       " 'machineId': 'f7aoknqdit15',\n",
       " 'machine': {'podHostId': 'xuqocmk4f2ve75-64410f80'}}"
      ]
     },
     "execution_count": 51,
     "metadata": {},
     "output_type": "execute_result"
    }
   ],
   "source": [
    "pod"
   ]
  },
  {
   "cell_type": "code",
   "execution_count": 54,
   "metadata": {},
   "outputs": [
    {
     "data": {
      "text/plain": [
       "'https://xuqocmk4f2ve75-80.proxy.runpod.net'"
      ]
     },
     "execution_count": 54,
     "metadata": {},
     "output_type": "execute_result"
    }
   ],
   "source": [
    "server = f\"https://{pod['id']}-80.proxy.runpod.net\"\n",
    "server"
   ]
  },
  {
   "cell_type": "code",
   "execution_count": 55,
   "metadata": {},
   "outputs": [],
   "source": [
    "def generate_prompt(prompt):\n",
    "    return  f\"\"\"\n",
    "You are a helpful AI assistant.\n",
    "\n",
    "USER: {prompt}\n",
    "ASSISTANT:\n",
    "\n",
    "\"\"\".strip()"
   ]
  },
  {
   "cell_type": "code",
   "execution_count": 56,
   "metadata": {},
   "outputs": [],
   "source": [
    "def make_request(prompt:str):\n",
    "    data = {\n",
    "        \"inputs\": prompt,\n",
    "        \"parameters\": {\"best_of\": 1, \"temperature\":0.01, \"max_new_tokens\": 512},\n",
    "    }\n",
    "    headers = {\n",
    "        \"Content-Type\": \"application/json\",\n",
    "    }\n",
    "\n",
    "    return requests.post(f\"{server}/generate\", json=data, headers=headers)"
   ]
  },
  {
   "cell_type": "code",
   "execution_count": 59,
   "metadata": {},
   "outputs": [
    {
     "name": "stdout",
     "output_type": "stream",
     "text": [
      "CPU times: total: 219 ms\n",
      "Wall time: 6.92 s\n"
     ]
    }
   ],
   "source": [
    "%%time\n",
    "prompt = generate_prompt('I would like to understand more about the struggles of the 37th president of the US')\n",
    "response = make_request(prompt)"
   ]
  },
  {
   "cell_type": "code",
   "execution_count": 60,
   "metadata": {},
   "outputs": [
    {
     "data": {
      "text/plain": [
       "'Richard Nixon was the 37th president of the United States, serving from 1969 to 1974. He faced many challenges during his presidency, including the Vietnam War, the Watergate scandal, and the economic recession of the early 1970s.\\n\\nThe Vietnam War was a major issue during Nixon\\'s presidency. He inherited the war from his predecessor, Lyndon Johnson, and tried to find a way to end the conflict. Nixon implemented a policy of \"Vietnamization,\" which involved gradually transferring responsibility for the war to the South Vietnamese government and military. However, the war dragged on for several more years, and Nixon\\'s efforts to end it were ultimately unsuccessful.\\n\\nThe Watergate scandal was another major challenge for Nixon. In 1972, five men were caught breaking into the Democratic National Committee headquarters at the Watergate complex in Washington, D.C. It was later revealed that the break-in was part of a larger effort by Nixon\\'s reelection campaign to spy on the Democrats. The scandal led to a series of investigations and ultimately Nixon\\'s resignation in 1974 to avoid impeachment.\\n\\nNixon also faced economic challenges during his presidency. The economy was in recession when he took office, and unemployment remained high throughout his first term. Inflation also rose sharply, reaching double-digit levels by the end of his presidency. Nixon implemented several economic policies to try to address these issues, but they were ultimately unsuccessful.\\n\\nDespite these challenges, Nixon did achieve some notable accomplishments during his presidency. He negotiated the Strategic Arms Limitation Treaty (SALT I) with the Soviet Union, which helped reduce tensions between the two superpowers. He also established the Environmental Protection Agency and signed the Clean Air Act, which helped improve air quality in the United States.\\n\\nIn summary, Richard Nixon faced many challenges during his presidency, including the Vietnam War, the Watergate scandal, and economic difficulties. However, he also achieved some notable accomplishments, particularly in the areas of foreign policy and environmental protection.'"
      ]
     },
     "execution_count": 60,
     "metadata": {},
     "output_type": "execute_result"
    }
   ],
   "source": [
    "answer = response.json()['generated_text'].strip()\n",
    "answer"
   ]
  },
  {
   "cell_type": "code",
   "execution_count": 8,
   "metadata": {},
   "outputs": [],
   "source": [
    "# WizardModel\n",
    "wizard_pod = runpod.create_pod(\n",
    "    name='WizardLM-13B-chat',\n",
    "    image_name='ghcr.io/huggingface/text-generation-inference:latest',\n",
    "    gpu_type_id='NVIDIA GeForce RTX 4090',\n",
    "    data_center_id='EU-RO-1',\n",
    "    cloud_type='SECURE',\n",
    "    docker_args= '--model-id WizardLM/WizardLM-13B-V1.2 --quantize eetq',\n",
    "    gpu_count=1,\n",
    "    volume_in_gb=80,\n",
    "    container_disk_in_gb=10,\n",
    "    ports='80/http,29500/http',\n",
    "    volume_mount_path='/data',\n",
    ")"
   ]
  },
  {
   "cell_type": "code",
   "execution_count": 9,
   "metadata": {},
   "outputs": [
    {
     "data": {
      "text/plain": [
       "{'id': 'ldrenteuvo7rdk',\n",
       " 'imageName': 'ghcr.io/huggingface/text-generation-inference:latest',\n",
       " 'env': [],\n",
       " 'machineId': '46gnla8ht5yz',\n",
       " 'machine': {'podHostId': 'ldrenteuvo7rdk-64410faf'}}"
      ]
     },
     "execution_count": 9,
     "metadata": {},
     "output_type": "execute_result"
    }
   ],
   "source": [
    "wizard_pod"
   ]
  },
  {
   "cell_type": "code",
   "execution_count": 74,
   "metadata": {},
   "outputs": [],
   "source": [
    "runpod.terminate_pod(pod['id'])"
   ]
  },
  {
   "cell_type": "code",
   "execution_count": 14,
   "metadata": {},
   "outputs": [
    {
     "data": {
      "text/plain": [
       "'https://ldrenteuvo7rdk-80.proxy.runpod.net'"
      ]
     },
     "execution_count": 14,
     "metadata": {},
     "output_type": "execute_result"
    }
   ],
   "source": [
    "server = f\"https://{wizard_pod['id']}-80.proxy.runpod.net\"\n",
    "server"
   ]
  },
  {
   "cell_type": "code",
   "execution_count": 16,
   "metadata": {},
   "outputs": [
    {
     "data": {
      "text/plain": [
       "'https://ldrenteuvo7rdk-80.proxy.runpod.net/docs'"
      ]
     },
     "execution_count": 16,
     "metadata": {},
     "output_type": "execute_result"
    }
   ],
   "source": [
    "server_docs = f\"https://{wizard_pod['id']}-80.proxy.runpod.net/docs\"\n",
    "server_docs"
   ]
  },
  {
   "cell_type": "code",
   "execution_count": 11,
   "metadata": {},
   "outputs": [],
   "source": [
    "default_system_prompt = \"\"\"\n",
    "You are a helpful, respectful and honest assistant. Always answer as helpfully as possible, while being safe. Your answers should not include any harmful, unethical, racist, sexist, toxic, dangerous, or illegal content. Please ensure that your responses are socially unbiased and positive in nature.\n",
    "\n",
    "If a question does not make any sense, or is not factually coherent, explain why instead of answering something not correct. If you don't know the answer to a question, please don't share false information.\n",
    "\"\"\".strip()\n",
    "\n",
    "def generate_prompt(prompt: str, system_prompt: str = default_system_prompt) -> str:\n",
    "    return f\"\"\"\n",
    "    [INST] <<SYS>>\n",
    "    {system_prompt}\n",
    "<</SYS>>\n",
    "\n",
    "{prompt} [/INST]\n",
    "\"\"\".strip()"
   ]
  },
  {
   "cell_type": "code",
   "execution_count": 48,
   "metadata": {},
   "outputs": [],
   "source": [
    "def generate_prompt(prompt):\n",
    "    return  f\"\"\"\n",
    "A chat between a curious user and an artificial intelligence assistant. \n",
    "The assistant gives helpful, detailed, and polite answers to the user's \n",
    "questions. USER: {prompt} ASSISTANT: .</s>\n",
    "\"\"\".strip()\n"
   ]
  },
  {
   "cell_type": "code",
   "execution_count": 18,
   "metadata": {},
   "outputs": [],
   "source": [
    "def make_request(prompt:str):\n",
    "    data = {\n",
    "        \"inputs\": prompt,\n",
    "        \"parameters\": {\"best_of\": 1, \"temperature\":0.01, \"max_new_tokens\": 512},\n",
    "    }\n",
    "    headers = {\n",
    "        \"Content-Type\": \"application/json\",\n",
    "    }\n",
    "\n",
    "    return requests.post(f\"{server}/generate\", json=data, headers=headers)"
   ]
  },
  {
   "cell_type": "code",
   "execution_count": 49,
   "metadata": {},
   "outputs": [
    {
     "name": "stdout",
     "output_type": "stream",
     "text": [
      "CPU times: total: 78.1 ms\n",
      "Wall time: 7.25 s\n"
     ]
    }
   ],
   "source": [
    "%%time\n",
    "prompt = generate_prompt('I would like to understand more about the struggles of the 37th president of the US')\n",
    "response = make_request(prompt)"
   ]
  },
  {
   "cell_type": "code",
   "execution_count": 50,
   "metadata": {},
   "outputs": [
    {
     "data": {
      "text/plain": [
       "'Richard Nixon was the 37th president of the United States, serving from 1969 to 1974. His presidency was marked by both significant achievements and major controversies.\\n\\nNixon\\'s accomplishments included:\\n\\n• The Apollo 11 moon landing in 1969, which occurred during his first year in office.\\n\\n• The establishment of the Environmental Protection Agency (EPA) in 1970 to protect human health and the environment.\\n\\n• The signing of the Occupational Safety and Health Act in 1970 to improve workplace safety.\\n\\n• The signing of the Endangered Species Act in 1973 to protect threatened and endangered species.\\n\\n• The signing of the Clean Water Act in 1972 to improve water quality.\\n\\nHowever, Nixon\\'s presidency was also marred by several major controversies:\\n\\n• The Watergate scandal, which began in 1972 when burglars were caught breaking into the Democratic National Committee headquarters at the Watergate complex in Washington, D.C. The scandal eventually led to Nixon\\'s resignation in 1974.\\n\\n• The Vietnam War, which continued during Nixon\\'s presidency. Nixon pursued a policy of \"Vietnamization\" to gradually withdraw U.S. troops while strengthening the South Vietnamese military. However, the war dragged on for several more years after Nixon left office.\\n\\n• The \"Nixon Shock\" of 1971, when Nixon announced that the U.S. would no longer convert dollars into gold at a fixed rate, effectively ending the Bretton Woods system of fixed exchange rates. This move contributed to the global economic turmoil of the 1970s.\\n\\n• The \"Nixon Doctrine\" of 1969, which called for the U.S. to provide military and economic support to allies while allowing them to take the lead in defending themselves. This doctrine was seen as a shift away from the more active role the U.S. had played in defending allies during the Cold War.\\n\\n• The \"Nixon Effect\" of 1972, when Nixon\\'s reelection campaign used dirty tricks and illegal tactics to undermine Democratic candidate George McGovern. This included the infamous \"plumbers\"'"
      ]
     },
     "execution_count": 50,
     "metadata": {},
     "output_type": "execute_result"
    }
   ],
   "source": [
    "answer = response.json()['generated_text'].strip()\n",
    "answer "
   ]
  },
  {
   "cell_type": "code",
   "execution_count": null,
   "metadata": {},
   "outputs": [],
   "source": [
    "# Stop pods\n"
   ]
  }
 ],
 "metadata": {
  "kernelspec": {
   "display_name": "runpod_endpoint",
   "language": "python",
   "name": "python3"
  },
  "language_info": {
   "codemirror_mode": {
    "name": "ipython",
    "version": 3
   },
   "file_extension": ".py",
   "mimetype": "text/x-python",
   "name": "python",
   "nbconvert_exporter": "python",
   "pygments_lexer": "ipython3",
   "version": "3.11.5"
  }
 },
 "nbformat": 4,
 "nbformat_minor": 2
}
